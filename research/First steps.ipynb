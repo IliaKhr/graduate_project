{
 "cells": [
  {
   "cell_type": "code",
   "execution_count": 1,
   "id": "0ecf7b21",
   "metadata": {},
   "outputs": [
    {
     "data": {
      "text/html": [
       "<style>.container { width:98% !important; }</style>"
      ],
      "text/plain": [
       "<IPython.core.display.HTML object>"
      ]
     },
     "metadata": {},
     "output_type": "display_data"
    }
   ],
   "source": [
    "from IPython.display import display, HTML\n",
    "display(HTML(\"<style>.container { width:98% !important; }</style>\"))"
   ]
  },
  {
   "cell_type": "code",
   "execution_count": 2,
   "id": "2dcace4f",
   "metadata": {},
   "outputs": [
    {
     "name": "stderr",
     "output_type": "stream",
     "text": [
      "2022-02-19 15:54:47.860 - [INFO] root [utils.<module>:17]: Библиотека импортирована! \n"
     ]
    }
   ],
   "source": [
    "import sys\n",
    "sys.path.append('..')  # Добавляем в видимость директорию уровнем выше -- то есть базовую папку, где лежит весь код\n",
    "import os\n",
    "from utils import logger\n",
    "import requests as rq\n",
    "from datetime import datetime, date, timedelta\n",
    "from tinkoff.invest import CandleInterval, Client\n",
    "\n",
    "API_V1_SANDBOX_TOKEN = os.getenv(\"API_V1_SANDBOX_TOKEN\")\n",
    "API_V2_TOKEN = os.getenv(\"API_V2_TOKEN\")"
   ]
  },
  {
   "cell_type": "code",
   "execution_count": null,
   "id": "664bf10e",
   "metadata": {},
   "outputs": [],
   "source": [
    "# Пример, как получить исторические свечи\n",
    "\n",
    "lower_boundary = datetime(2022, 2, 15)\n",
    "upper_boundary = datetime.utcnow()\n",
    "candle_interval = CandleInterval.CANDLE_INTERVAL_HOUR\n",
    "figi_to_lookup = \"BBG004730N88\"\n",
    "\n",
    "candles = []\n",
    "\n",
    "with Client(API_V2_TOKEN) as client:\n",
    "    \n",
    "    for candle in client.get_all_candles(\n",
    "        figi=figi_to_lookup,\n",
    "        from_=lower_boundary,\n",
    "        to=upper_boundary,\n",
    "        interval=candle_interval,\n",
    "    ):\n",
    "        \n",
    "        candles.append(candle)"
   ]
  },
  {
   "cell_type": "code",
   "execution_count": null,
   "id": "85b75f29",
   "metadata": {},
   "outputs": [],
   "source": [
    "# Получение всех доступных акций\n",
    "\n",
    "with Client(API_V2_TOKEN) as client:\n",
    "    \n",
    "    shares = client.instruments.shares()\n",
    "    currencies = client.instruments.currencies()"
   ]
  },
  {
   "cell_type": "code",
   "execution_count": null,
   "id": "b7598d82",
   "metadata": {},
   "outputs": [],
   "source": [
    "for curr in currencies.instruments:\n",
    "    \n",
    "    print(curr.name, curr.figi, curr.currency)"
   ]
  },
  {
   "cell_type": "code",
   "execution_count": null,
   "id": "da1bc9f1",
   "metadata": {},
   "outputs": [],
   "source": [
    "# Dollar candles\n",
    "us_dollar_candles = []\n",
    "\n",
    "with Client(API_V2_TOKEN) as client:\n",
    "    \n",
    "    for candle in client.get_all_candles(\n",
    "        figi=\"BBG0013HGFT4\"\n",
    "        , from_=datetime(2022, 2, 13)\n",
    "        , to=datetime.utcnow()\n",
    "        , interval=CandleInterval.CANDLE_INTERVAL_HOUR\n",
    "    ):\n",
    "        \n",
    "        us_dollar_candles.append(candle)"
   ]
  },
  {
   "cell_type": "code",
   "execution_count": null,
   "id": "7f03c3ec",
   "metadata": {
    "scrolled": true
   },
   "outputs": [],
   "source": [
    "for candle in us_dollar_candles:\n",
    "    \n",
    "    print(candle.time)"
   ]
  },
  {
   "cell_type": "code",
   "execution_count": null,
   "id": "ce5c8853",
   "metadata": {},
   "outputs": [],
   "source": []
  },
  {
   "cell_type": "code",
   "execution_count": null,
   "id": "8e4c7857",
   "metadata": {},
   "outputs": [],
   "source": []
  },
  {
   "cell_type": "code",
   "execution_count": null,
   "id": "9dcba34a",
   "metadata": {},
   "outputs": [],
   "source": []
  }
 ],
 "metadata": {
  "kernelspec": {
   "display_name": "grad_proj_env",
   "language": "python",
   "name": "grad_proj_env"
  },
  "language_info": {
   "codemirror_mode": {
    "name": "ipython",
    "version": 3
   },
   "file_extension": ".py",
   "mimetype": "text/x-python",
   "name": "python",
   "nbconvert_exporter": "python",
   "pygments_lexer": "ipython3",
   "version": "3.9.7"
  }
 },
 "nbformat": 4,
 "nbformat_minor": 5
}
