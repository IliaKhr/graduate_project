{
 "cells": [
  {
   "cell_type": "code",
   "execution_count": 1,
   "id": "0ecf7b21",
   "metadata": {},
   "outputs": [
    {
     "data": {
      "text/html": [
       "<style>.container { width:98% !important; }</style>"
      ],
      "text/plain": [
       "<IPython.core.display.HTML object>"
      ]
     },
     "metadata": {},
     "output_type": "display_data"
    }
   ],
   "source": [
    "from IPython.display import display, HTML\n",
    "display(HTML(\"<style>.container { width:98% !important; }</style>\"))"
   ]
  },
  {
   "cell_type": "code",
   "execution_count": 2,
   "id": "2dcace4f",
   "metadata": {},
   "outputs": [
    {
     "name": "stderr",
     "output_type": "stream",
     "text": [
      "2022-02-22 22:23:00.826 - [INFO] root [utils.<module>:17]: Библиотека импортирована! \n"
     ]
    }
   ],
   "source": [
    "import sys\n",
    "sys.path.append('..')  # Добавляем в видимость директорию уровнем выше -- то есть базовую папку, где лежит весь код\n",
    "import os\n",
    "from utils import logger\n",
    "import requests as rq\n",
    "from datetime import datetime, date, timedelta\n",
    "from tinkoff.invest import CandleInterval, Client\n",
    "\n",
    "API_V1_SANDBOX_TOKEN = os.getenv(\"API_V1_SANDBOX_TOKEN\")\n",
    "API_V2_TOKEN = os.getenv(\"API_V2_TOKEN\")"
   ]
  },
  {
   "cell_type": "code",
   "execution_count": null,
   "id": "664bf10e",
   "metadata": {},
   "outputs": [],
   "source": [
    "# Пример, как получить исторические свечи\n",
    "\n",
    "lower_boundary = datetime(2022, 2, 15)\n",
    "upper_boundary = datetime.utcnow()\n",
    "candle_interval = CandleInterval.CANDLE_INTERVAL_HOUR\n",
    "figi_to_lookup = \"BBG004730N88\"\n",
    "\n",
    "candles = []\n",
    "\n",
    "with Client(API_V2_TOKEN) as client:\n",
    "    \n",
    "    for candle in client.get_all_candles(\n",
    "        figi=figi_to_lookup,\n",
    "        from_=lower_boundary,\n",
    "        to=upper_boundary,\n",
    "        interval=candle_interval,\n",
    "    ):\n",
    "        \n",
    "        candles.append(candle)"
   ]
  },
  {
   "cell_type": "code",
   "execution_count": 3,
   "id": "85b75f29",
   "metadata": {},
   "outputs": [
    {
     "name": "stderr",
     "output_type": "stream",
     "text": [
      "2022-02-21 17:18:34.143 - [INFO] tinkoff.invest.logging [logging.log_request:45]: 81d917b2aa0ab11361e0ee51e05fb4e4 Shares\n",
      "2022-02-21 17:18:34.840 - [INFO] tinkoff.invest.logging [logging.log_request:45]: eb4714fbf2696df2f0cb9dd5f805dae6 Currencies\n"
     ]
    }
   ],
   "source": [
    "# Получение всех доступных акций\n",
    "\n",
    "with Client(API_V2_TOKEN) as client:\n",
    "    \n",
    "    shares = client.instruments.shares()\n",
    "    currencies = client.instruments.currencies()"
   ]
  },
  {
   "cell_type": "code",
   "execution_count": 5,
   "id": "3a89810a",
   "metadata": {},
   "outputs": [
    {
     "name": "stdout",
     "output_type": "stream",
     "text": [
      "Share(figi='BBG000B9XRY4', ticker='AAPL', class_code='SPBXM', isin='US0378331005', lot=1, currency='usd', klong=Quotation(units=2, nano=0), kshort=Quotation(units=2, nano=0), dlong=Quotation(units=0, nano=250000000), dshort=Quotation(units=0, nano=254400000), dlong_min=Quotation(units=0, nano=134000000), dshort_min=Quotation(units=0, nano=120000000), short_enabled_flag=True, name='Apple', exchange='SPB_MORNING_WEEKEND', ipo_date=datetime.datetime(1980, 12, 12, 0, 0, tzinfo=datetime.timezone.utc), issue_size=16530166000, country_of_risk='US', country_of_risk_name='Соединенные Штаты Америки', sector='it', issue_size_plan=50400000000, nominal=MoneyValue(currency='usd', units=0, nano=10000), trading_status=<SecurityTradingStatus.SECURITY_TRADING_STATUS_BREAK_IN_TRADING: 4>, otc_flag=False, buy_available_flag=True, sell_available_flag=True, div_yield_flag=True, share_type=<ShareType.SHARE_TYPE_COMMON: 1>, min_price_increment=Quotation(units=0, nano=10000000), api_trade_available_flag=True)\n"
     ]
    }
   ],
   "source": [
    "for share in shares.instruments:\n",
    "    \n",
    "    if share.name.lower() == 'apple':\n",
    "        \n",
    "        print(share)"
   ]
  },
  {
   "cell_type": "code",
   "execution_count": null,
   "id": "8cee08c5",
   "metadata": {},
   "outputs": [],
   "source": []
  },
  {
   "cell_type": "code",
   "execution_count": null,
   "id": "b7598d82",
   "metadata": {},
   "outputs": [],
   "source": [
    "for curr in currencies.instruments:\n",
    "    \n",
    "    print(curr.name, curr.figi, curr.currency)"
   ]
  },
  {
   "cell_type": "code",
   "execution_count": null,
   "id": "da1bc9f1",
   "metadata": {},
   "outputs": [],
   "source": [
    "# Dollar candles\n",
    "us_dollar_candles = []\n",
    "\n",
    "with Client(API_V2_TOKEN) as client:\n",
    "    \n",
    "    for candle in client.get_all_candles(\n",
    "        figi=\"BBG0013HGFT4\"\n",
    "        , from_=datetime(2022, 2, 13)\n",
    "        , to=datetime.utcnow()\n",
    "        , interval=CandleInterval.CANDLE_INTERVAL_HOUR\n",
    "    ):\n",
    "        \n",
    "        us_dollar_candles.append(candle)"
   ]
  },
  {
   "cell_type": "code",
   "execution_count": null,
   "id": "7f03c3ec",
   "metadata": {
    "scrolled": true
   },
   "outputs": [],
   "source": [
    "for candle in us_dollar_candles:\n",
    "    \n",
    "    print(candle.time)"
   ]
  },
  {
   "cell_type": "code",
   "execution_count": null,
   "id": "ce5c8853",
   "metadata": {},
   "outputs": [],
   "source": []
  },
  {
   "cell_type": "code",
   "execution_count": null,
   "id": "8e4c7857",
   "metadata": {},
   "outputs": [],
   "source": []
  },
  {
   "cell_type": "code",
   "execution_count": null,
   "id": "9dcba34a",
   "metadata": {},
   "outputs": [],
   "source": []
  }
 ],
 "metadata": {
  "kernelspec": {
   "display_name": "grad_proj_env",
   "language": "python",
   "name": "grad_proj_env"
  },
  "language_info": {
   "codemirror_mode": {
    "name": "ipython",
    "version": 3
   },
   "file_extension": ".py",
   "mimetype": "text/x-python",
   "name": "python",
   "nbconvert_exporter": "python",
   "pygments_lexer": "ipython3",
   "version": "3.9.7"
  }
 },
 "nbformat": 4,
 "nbformat_minor": 5
}
