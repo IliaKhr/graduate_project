{
 "cells": [
  {
   "cell_type": "code",
   "execution_count": 2,
   "id": "2d6f4e4e",
   "metadata": {},
   "outputs": [
    {
     "data": {
      "text/html": [
       "<style>.container { width:96% !important; }</style>"
      ],
      "text/plain": [
       "<IPython.core.display.HTML object>"
      ]
     },
     "metadata": {},
     "output_type": "display_data"
    }
   ],
   "source": [
    "# Сделаем блокнот широким\n",
    "from IPython.display import display, HTML\n",
    "display(HTML(\"<style>.container { width:96% !important; }</style>\"))"
   ]
  },
  {
   "cell_type": "code",
   "execution_count": 3,
   "id": "2f6c926c",
   "metadata": {},
   "outputs": [
    {
     "name": "stderr",
     "output_type": "stream",
     "text": [
      "2022-02-22 22:40:52.992 - [INFO] root [utils.<module>:17]: Библиотека импортирована! \n"
     ]
    }
   ],
   "source": [
    "import sys\n",
    "sys.path.append('..')  # Добавляем в видимость директорию уровнем выше -- то есть базовую папку, где лежит весь код\n",
    "import os\n",
    "from utils import logger\n",
    "import requests as rq\n",
    "from datetime import datetime, date, timedelta\n",
    "from tinkoff.invest import CandleInterval, Client\n",
    "from typing import Union\n",
    "\n",
    "API_V2_TOKEN = os.getenv(\"API_V2_TOKEN\")"
   ]
  },
  {
   "cell_type": "code",
   "execution_count": 10,
   "id": "e3563a67",
   "metadata": {},
   "outputs": [],
   "source": [
    "class Position:\n",
    "    \"\"\"\n",
    "    Класс, который описывает некоторый актив, которым мы владеем\n",
    "    \n",
    "    Должен содержать такие показатели, как:\n",
    "        \n",
    "        - figi (как основной идентификатор)\n",
    "        - Тикер\n",
    "        - Справочная инфа (страна, сектор, валюта)\n",
    "        - Qty\n",
    "        - Дата покупки / цена покупки (учитывая, что покупать один и тот же актив можно в разное время и => цена будет разной)\n",
    "            Возможный work-around: средняя цена покупки (нужен метод подсчета) / хранить словарь: {bought_at_price: count_bought}\n",
    "            \n",
    "            Или !!! Position -- именно событие покупки акций (других активов) в момент X в числе Y штук. \n",
    "            И тогда сделать еще отдельный способ агрегировать статистику до актива в целом. \n",
    "    \"\"\"\n",
    "    def __init__(\n",
    "        self\n",
    "        , figi: str\n",
    "        , tiker: str\n",
    "        , country: str\n",
    "        , sector: str\n",
    "        , currency: str\n",
    "        , qty: Union[int, float]\n",
    "        , price_of_buy: float\n",
    "    ) -> None:\n",
    "        \n",
    "        self.figi = figi\n",
    "        self.tiker = tiker\n",
    "        self.country = country\n",
    "        self.sector = sector\n",
    "        self.qty = qty\n",
    "        self.price_of_buy = price_of_buy\n",
    "\n",
    "class Portfolio:\n",
    "    \"\"\"\n",
    "    Класс, который представляет собой контейнер из объектов класса Position\n",
    "    \"\"\"\n",
    "    pass"
   ]
  },
  {
   "cell_type": "code",
   "execution_count": null,
   "id": "4f1da274",
   "metadata": {},
   "outputs": [],
   "source": []
  },
  {
   "cell_type": "code",
   "execution_count": null,
   "id": "0497c045",
   "metadata": {},
   "outputs": [],
   "source": []
  },
  {
   "cell_type": "code",
   "execution_count": null,
   "id": "f861c6cb",
   "metadata": {},
   "outputs": [],
   "source": []
  }
 ],
 "metadata": {
  "kernelspec": {
   "display_name": "grad_proj_env",
   "language": "python",
   "name": "grad_proj_env"
  },
  "language_info": {
   "codemirror_mode": {
    "name": "ipython",
    "version": 3
   },
   "file_extension": ".py",
   "mimetype": "text/x-python",
   "name": "python",
   "nbconvert_exporter": "python",
   "pygments_lexer": "ipython3",
   "version": "3.9.7"
  }
 },
 "nbformat": 4,
 "nbformat_minor": 5
}
